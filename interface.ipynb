{
 "cells": [
  {
   "cell_type": "code",
   "execution_count": 1,
   "id": "058ab869",
   "metadata": {},
   "outputs": [],
   "source": [
    "import tkinter as tk\n",
    "from tkinter import ttk\n",
    "from tkinter import filedialog\n",
    "from PIL import Image, ImageTk\n",
    "\n",
    "model_classement = \"test.h5\"\n"
   ]
  },
  {
   "cell_type": "code",
   "execution_count": 2,
   "id": "15718321",
   "metadata": {},
   "outputs": [],
   "source": [
    "def predictionImage(imagePath,model):\n",
    "    import matplotlib.pyplot as plt\n",
    "    import matplotlib.image as mpimg\n",
    "    from keras.models import load_model\n",
    "    from PIL import Image\n",
    "    import keras.utils as image\n",
    "    import numpy as np\n",
    "    model = load_model(model)\n",
    "    imagee = image.load_img(imagePath, target_size=(224, 224))\n",
    "    x = image.img_to_array(imagee)\n",
    "    x = np.expand_dims(x, axis=0)\n",
    "    x = tf.keras.applications.mobilenet.preprocess_input(x)\n",
    "    preds = model.predict(x)\n",
    "    predicted_classes = preds.argmax(axis=1)\n",
    "    labels = {0: 'Image à exclure', 1: 'Image à retoucher', 2: 'Image parfaite'}\n",
    "    predicted_labels = [labels[i] for i in predicted_classes]\n",
    "    imgplot = plt.imshow(imagee)\n",
    "    imgplt = plt.axis('off')\n",
    "    imgplt = plt.title(predicted_labels)\n",
    "\n",
    "    return plt.show()"
   ]
  },
  {
   "cell_type": "code",
   "execution_count": 3,
   "id": "220db354",
   "metadata": {
    "scrolled": true
   },
   "outputs": [],
   "source": [
    "class MyApp(tk.Tk):\n",
    "    def select_image(self):\n",
    "        # Ouvrez une boîte de dialogue de sélection de fichiers et récupérez le chemin du fichier sélectionné\n",
    "        file_path = filedialog.askopenfilename(filetypes=[(\"Image files\", \"*.jpg;*.jpeg;*.png\")])\n",
    "        # Chargez l'image et affichez-la dans l'étiquette\n",
    "        ##########\n",
    "        self.label = tk.Label(self.classement_tab, text=\"file: \")\n",
    "        self.label.pack(side=\"left\", padx=10, pady=10)\n",
    "        self.value_label = tk.Label(self.classement_tab, text=file_path)\n",
    "        self.value_label.pack(side=\"left\", padx=10, pady=10)\n",
    "        return file_path, str(file_path)\n",
    "        \n",
    "    def __init__(self):\n",
    "        super().__init__()\n",
    "        \n",
    "        self.title(\"Mon application\")\n",
    "        \n",
    "        # Créer le widget Notebook pour les onglets\n",
    "        self.notebook = ttk.Notebook(self)\n",
    "        \n",
    "        ############## Créer les trois onglets\n",
    "        #######    1\n",
    "        self.classement_tab = tk.Frame(self.notebook)\n",
    "        \n",
    "        # création des widgets pour le premier onglet\n",
    "        fichier = filedialog.Directory()\n",
    "        label_image_classement = tk.Label(self.classement_tab, text=\"Insérez une image à classer:\")\n",
    "        label_image_classement.pack() \n",
    "\n",
    "        # Créez un bouton qui ouvre une boîte de dialogue de sélection de fichiers\n",
    "        self.input_button = tk.Button(self.classement_tab, text=\"Select Image\", command=self.select_image)\n",
    "        self.input_button.pack(pady=10)\n",
    "        path_image = self.select_image\n",
    "    \n",
    "        print(path_image)\n",
    "        \n",
    "        bouton_classement = tk.Button(self.classement_tab, text=\"Classer\", command=lambda: predictionImage(path_image, model_classement))\n",
    "        bouton_classement.pack(pady=10)\n",
    "    \n",
    "        #######    2\n",
    "        self.transformation_tab = tk.Frame(self.notebook)\n",
    "        #######    3\n",
    "        self.style_tab = tk.Frame(self.notebook)\n",
    "        \n",
    "        # Ajouter les onglets au widget Notebook\n",
    "        self.notebook.add(self.classement_tab, text=\"Classement\")\n",
    "        self.notebook.add(self.transformation_tab, text=\"Transformation\")\n",
    "        self.notebook.add(self.style_tab, text=\"Application d'un style\")\n",
    "        \n",
    "        # Ajouter un bouton Exit pour fermer l'application\n",
    "        self.exit_button = tk.Button(self, text=\"Exit\", command=self.destroy)\n",
    "        \n",
    "        # Pack les widgets sur la fenêtre principale\n",
    "        self.notebook.pack(expand=True, fill=\"both\", padx=10, pady=10)\n",
    "        self.exit_button.pack(side=\"bottom\", padx=10, pady=10)\n",
    "        "
   ]
  },
  {
   "cell_type": "code",
   "execution_count": 4,
   "id": "ad1d66ff",
   "metadata": {},
   "outputs": [
    {
     "name": "stdout",
     "output_type": "stream",
     "text": [
      "<bound method MyApp.select_image of <__main__.MyApp object .>>\n"
     ]
    },
    {
     "name": "stderr",
     "output_type": "stream",
     "text": [
      "Exception in Tkinter callback\n",
      "Traceback (most recent call last):\n",
      "  File \"D:\\Users\\user_local\\anaconda3\\lib\\tkinter\\__init__.py\", line 1921, in __call__\n",
      "    return self.func(*args)\n",
      "  File \"D:\\Users\\user_local\\AppData\\Local\\Temp\\ipykernel_17432\\3630725950.py\", line 37, in <lambda>\n",
      "    bouton_classement = tk.Button(self.classement_tab, text=\"Classer\", command=lambda: predictionImage(path_image, model_classement))\n",
      "  File \"D:\\Users\\user_local\\AppData\\Local\\Temp\\ipykernel_17432\\3135960643.py\", line 8, in predictionImage\n",
      "    model = load_model(model)\n",
      "  File \"D:\\Users\\user_local\\anaconda3\\lib\\site-packages\\keras\\utils\\traceback_utils.py\", line 70, in error_handler\n",
      "    raise e.with_traceback(filtered_tb) from None\n",
      "  File \"D:\\Users\\user_local\\anaconda3\\lib\\site-packages\\keras\\optimizers\\optimizer_experimental\\optimizer.py\", line 115, in _process_kwargs\n",
      "    raise TypeError(\n",
      "TypeError: weight_decay is not a valid argument, kwargs should be empty  for `optimizer_experimental.Optimizer`.\n"
     ]
    }
   ],
   "source": [
    "if __name__ == \"__main__\":\n",
    "    app = MyApp()\n",
    "    app.mainloop()"
   ]
  },
  {
   "cell_type": "code",
   "execution_count": null,
   "id": "2d1f6de0",
   "metadata": {},
   "outputs": [],
   "source": []
  }
 ],
 "metadata": {
  "kernelspec": {
   "display_name": "Python 3 (ipykernel)",
   "language": "python",
   "name": "python3"
  },
  "language_info": {
   "codemirror_mode": {
    "name": "ipython",
    "version": 3
   },
   "file_extension": ".py",
   "mimetype": "text/x-python",
   "name": "python",
   "nbconvert_exporter": "python",
   "pygments_lexer": "ipython3",
   "version": "3.10.9"
  }
 },
 "nbformat": 4,
 "nbformat_minor": 5
}
